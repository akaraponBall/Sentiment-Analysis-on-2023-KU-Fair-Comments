{
 "cells": [
  {
   "cell_type": "markdown",
   "metadata": {},
   "source": [
    "# 2023 KU-Fair Sentiment Analysis \n",
    "\n",
    "The dataset consists of comments about the 2023 FU Fair (Bang Khen), aggregated from Facebook and Twitter. The analysis was performed using OpenAI's large language models (LLMs)."
   ]
  },
  {
   "cell_type": "code",
   "execution_count": 1,
   "metadata": {},
   "outputs": [],
   "source": [
    "import os\n",
    "import ast\n",
    "from dotenv import load_dotenv\n",
    "import numpy as np\n",
    "import pandas as pd\n",
    "from openai import OpenAI\n",
    "import tiktoken"
   ]
  },
  {
   "cell_type": "markdown",
   "metadata": {},
   "source": [
    "## Helper function"
   ]
  },
  {
   "cell_type": "code",
   "execution_count": 2,
   "metadata": {},
   "outputs": [],
   "source": [
    "def calculate_tokens(text:str, model:str='gpt-4o-mini') -> int:\n",
    "    \"\"\"Calculates the tokens of input text.\n",
    "\n",
    "    Args:\n",
    "        text (str): Input text.\n",
    "        model (str): The model to use for token counting.\n",
    "\n",
    "    Returns:\n",
    "        int: Total number of tokens.\n",
    "    \"\"\"\n",
    "    enc = tiktoken.encoding_for_model(model)\n",
    "    return len(enc.encode(text))"
   ]
  },
  {
   "cell_type": "markdown",
   "metadata": {},
   "source": [
    "## Explore the dataset"
   ]
  },
  {
   "cell_type": "code",
   "execution_count": 3,
   "metadata": {},
   "outputs": [
    {
     "name": "stdout",
     "output_type": "stream",
     "text": [
      "<class 'pandas.core.frame.DataFrame'>\n",
      "RangeIndex: 732 entries, 0 to 731\n",
      "Data columns (total 2 columns):\n",
      " #   Column        Non-Null Count  Dtype \n",
      "---  ------        --------------  ----- \n",
      " 0   text          732 non-null    object\n",
      " 1   manual_Label  732 non-null    object\n",
      "dtypes: object(2)\n",
      "memory usage: 11.6+ KB\n"
     ]
    }
   ],
   "source": [
    "df = pd.read_csv(\"./dataset/data.csv\")\n",
    "df.info()"
   ]
  },
  {
   "cell_type": "code",
   "execution_count": 4,
   "metadata": {},
   "outputs": [
    {
     "data": {
      "text/html": [
       "<div>\n",
       "<style scoped>\n",
       "    .dataframe tbody tr th:only-of-type {\n",
       "        vertical-align: middle;\n",
       "    }\n",
       "\n",
       "    .dataframe tbody tr th {\n",
       "        vertical-align: top;\n",
       "    }\n",
       "\n",
       "    .dataframe thead th {\n",
       "        text-align: right;\n",
       "    }\n",
       "</style>\n",
       "<table border=\"1\" class=\"dataframe\">\n",
       "  <thead>\n",
       "    <tr style=\"text-align: right;\">\n",
       "      <th></th>\n",
       "      <th>text</th>\n",
       "      <th>manual_Label</th>\n",
       "      <th>num_tokens</th>\n",
       "    </tr>\n",
       "  </thead>\n",
       "  <tbody>\n",
       "    <tr>\n",
       "      <th>0</th>\n",
       "      <td>เที่ยงแล้วน๊าาาาากาแฟซักแก้ว เค้กซักก้อน ก๋วยเ...</td>\n",
       "      <td>Positive</td>\n",
       "      <td>47</td>\n",
       "    </tr>\n",
       "    <tr>\n",
       "      <th>1</th>\n",
       "      <td>บ่ายแล้ว ทานข้าวกลางวันกันคะ</td>\n",
       "      <td>Neutral</td>\n",
       "      <td>13</td>\n",
       "    </tr>\n",
       "    <tr>\n",
       "      <th>2</th>\n",
       "      <td>ORIGINAL MOCHI NUTELLA - ไดฟูกุนูเทลล่า ไส้นูเ...</td>\n",
       "      <td>Neutral</td>\n",
       "      <td>77</td>\n",
       "    </tr>\n",
       "    <tr>\n",
       "      <th>3</th>\n",
       "      <td>ถูกหวยในเป๋าตัง 80 ปี เกษตรศาสตร์ คิคิ</td>\n",
       "      <td>Positive</td>\n",
       "      <td>18</td>\n",
       "    </tr>\n",
       "    <tr>\n",
       "      <th>4</th>\n",
       "      <td>แอนนาเสือ ที่ เกษตรแฟร์ค่า น่ารักมาก ❤️😝😅 กดติ...</td>\n",
       "      <td>Positive</td>\n",
       "      <td>47</td>\n",
       "    </tr>\n",
       "  </tbody>\n",
       "</table>\n",
       "</div>"
      ],
      "text/plain": [
       "                                                text manual_Label  num_tokens\n",
       "0  เที่ยงแล้วน๊าาาาากาแฟซักแก้ว เค้กซักก้อน ก๋วยเ...     Positive          47\n",
       "1                      บ่ายแล้ว ทานข้าวกลางวันกันคะ       Neutral          13\n",
       "2  ORIGINAL MOCHI NUTELLA - ไดฟูกุนูเทลล่า ไส้นูเ...      Neutral          77\n",
       "3            ถูกหวยในเป๋าตัง 80 ปี เกษตรศาสตร์ คิคิ      Positive          18\n",
       "4  แอนนาเสือ ที่ เกษตรแฟร์ค่า น่ารักมาก ❤️😝😅 กดติ...     Positive          47"
      ]
     },
     "execution_count": 4,
     "metadata": {},
     "output_type": "execute_result"
    }
   ],
   "source": [
    "df['num_tokens'] = df['text'].apply(calculate_tokens)\n",
    "df.head()"
   ]
  },
  {
   "cell_type": "code",
   "execution_count": 5,
   "metadata": {},
   "outputs": [
    {
     "name": "stdout",
     "output_type": "stream",
     "text": [
      "The total tokens of all 732 comments = 26380 tokens\n"
     ]
    }
   ],
   "source": [
    "print(f\"The total tokens of all {len(df)} comments = {df['num_tokens'].sum()} tokens\")"
   ]
  },
  {
   "cell_type": "code",
   "execution_count": 6,
   "metadata": {},
   "outputs": [],
   "source": [
    "# df[df['manual_Label'] == \"Negative\"].iloc[11]['text']"
   ]
  },
  {
   "cell_type": "markdown",
   "metadata": {},
   "source": [
    "## Prompt"
   ]
  },
  {
   "cell_type": "code",
   "execution_count": 7,
   "metadata": {},
   "outputs": [],
   "source": [
    "def prompt_initialize():\n",
    "    # Initial Prompt\n",
    "    system_prompt = \"\"\"You are a sentiment analyst. Analyze the given Thai comment and classify it as 'positive', 'negative', or 'neutral'. If unsure, respond with 'neutral'. Return your response as a plain Python string, with no formatting or additional text. Each comment will have only one answer.\"\"\"\n",
    "\n",
    "    comments = ['เที่ยงแล้วน๊าาาาากาแฟซักแก้ว เค้กซักก้อน ก๋วยเตี๋ยวรสจัดซักชาม ทุกอย่างลงตัว คือดีอะ',\n",
    "                'บ่ายแล้ว ทานข้าวกลางวันกันคะ',\n",
    "                'ORIGINAL MOCHI NUTELLA - ไดฟูกุนูเทลล่า ไส้นูเทลล่าเน้นๆ แป้งยืดหนึบบ กล่องละ 40.- (2 ชิ้น) 🚚ส่งทั่วไทย / นัดรับฟรี (มก ส่งถึงที่ - หอวังส่งถึงที่เลย)',\n",
    "                'แซลม่อนดองเกษตรแฟร์ ทั้งหมดนี่คือ 99฿ เลยอ่ะ ตอนได้รับมาคือช้อค ขายแพงเกิ๊นนนนน ']\n",
    "\n",
    "    answers =  [\"positive\", \"neutral\", \"neutral\", \"negative\"]\n",
    "\n",
    "    messages = [{'role': 'system', 'content': system_prompt}]\n",
    "\n",
    "    for comment, answer in zip(comments, answers):\n",
    "        messages.append({'role':'user', 'content':f'Analyze the given Thai comments: {comment}'})\n",
    "        messages.append({'role':'assistant', 'content':answer})\n",
    "\n",
    "    return messages"
   ]
  },
  {
   "cell_type": "code",
   "execution_count": 8,
   "metadata": {},
   "outputs": [
    {
     "data": {
      "text/plain": [
       "[{'role': 'system',\n",
       "  'content': \"You are a sentiment analyst. Analyze the given Thai comment and classify it as 'positive', 'negative', or 'neutral'. If unsure, respond with 'neutral'. Return your response as a plain Python string, with no formatting or additional text. Each comment will have only one answer.\"},\n",
       " {'role': 'user',\n",
       "  'content': 'Analyze the given Thai comments: เที่ยงแล้วน๊าาาาากาแฟซักแก้ว เค้กซักก้อน ก๋วยเตี๋ยวรสจัดซักชาม ทุกอย่างลงตัว คือดีอะ'},\n",
       " {'role': 'assistant', 'content': 'positive'},\n",
       " {'role': 'user',\n",
       "  'content': 'Analyze the given Thai comments: บ่ายแล้ว ทานข้าวกลางวันกันคะ'},\n",
       " {'role': 'assistant', 'content': 'neutral'},\n",
       " {'role': 'user',\n",
       "  'content': 'Analyze the given Thai comments: ORIGINAL MOCHI NUTELLA - ไดฟูกุนูเทลล่า ไส้นูเทลล่าเน้นๆ แป้งยืดหนึบบ กล่องละ 40.- (2 ชิ้น) 🚚ส่งทั่วไทย / นัดรับฟรี (มก ส่งถึงที่ - หอวังส่งถึงที่เลย)'},\n",
       " {'role': 'assistant', 'content': 'neutral'},\n",
       " {'role': 'user',\n",
       "  'content': 'Analyze the given Thai comments: แซลม่อนดองเกษตรแฟร์ ทั้งหมดนี่คือ 99฿ เลยอ่ะ ตอนได้รับมาคือช้อค ขายแพงเกิ๊นนนนน '},\n",
       " {'role': 'assistant', 'content': 'negative'}]"
      ]
     },
     "execution_count": 8,
     "metadata": {},
     "output_type": "execute_result"
    }
   ],
   "source": [
    "prompt_initialize()"
   ]
  },
  {
   "cell_type": "markdown",
   "metadata": {},
   "source": [
    "## OpenAI chat API"
   ]
  },
  {
   "cell_type": "code",
   "execution_count": 9,
   "metadata": {},
   "outputs": [],
   "source": [
    "# load api key, organization and project id\n",
    "load_dotenv()\n",
    "api_key, org_id, project_id = os.getenv(\"OPENAI_API_KEY\"), os.getenv(\"Organization_ID\"), os.getenv(\"Project_ID\")\n",
    "if api_key is None:\n",
    "    raise ValueError(\"API key not found\")\n",
    "if org_id is None:\n",
    "    raise ValueError(\"Organization ID not found\")\n",
    "if project_id is None:\n",
    "    raise ValueError(\"Project ID not found\")\n",
    "\n",
    "client = OpenAI(api_key=api_key, organization=org_id, project=project_id)"
   ]
  },
  {
   "cell_type": "code",
   "execution_count": 19,
   "metadata": {},
   "outputs": [
    {
     "name": "stdout",
     "output_type": "stream",
     "text": [
      "Initial prompt has 290 tokens\n",
      "Output from model's API probably has 732 tokens\n",
      "Total context window = 27402 tokens\n",
      "**Note: The token calculation provided is intended for estimation purposes only and may not match the exact count used for pricing by the model's API.\n"
     ]
    }
   ],
   "source": [
    "'''\n",
    "Arrange context window: \n",
    "    - gpt-4o-mini has 128,000 tokens of context window and 16,384 tokens of Max output tokens\n",
    "''' \n",
    "# Calculate token of the initial prompt\n",
    "init_prompt_tokens = 0\n",
    "init_prompt = prompt_initialize()\n",
    "\n",
    "for message in init_prompt:\n",
    "    # Count texts assigned as 'role' and 'content' \n",
    "    init_prompt_tokens += calculate_tokens(message['content']) + calculate_tokens(message['role'])\n",
    "    \n",
    "    # Count the words 'role' and 'content' (Message Metadata)\n",
    "    init_prompt_tokens += calculate_tokens('role') + calculate_tokens('content')\n",
    "\n",
    "# estimate the output tokens from chat-api \n",
    "output_tokens = np.mean([calculate_tokens('positive'), calculate_tokens('negative'), calculate_tokens('neutral')], dtype=np.int32) * len(df)\n",
    "\n",
    "print(f'Initial prompt has {init_prompt_tokens} tokens')\n",
    "print(f\"Output from model's API probably has {output_tokens} tokens\")\n",
    "print(f\"Total context window = {init_prompt_tokens + df['num_tokens'].sum() + output_tokens} tokens\")\n",
    "print(\"**Note: The token calculation provided is intended for estimation purposes only and may not match the exact count used for pricing by the model's API.\")"
   ]
  },
  {
   "cell_type": "code",
   "execution_count": 11,
   "metadata": {},
   "outputs": [],
   "source": [
    "# Call OpenAI chat API\n",
    "def chat_api_call(prompt_messages, model):    \n",
    "    try:\n",
    "        response = client.chat.completions.create(model=model, messages=prompt_messages)\n",
    "        return response.choices[0].message.content\n",
    "    except:\n",
    "        print(\"API call failed!!!\")\n",
    "\n",
    "def sentiment_analysis(dataset, folder_name, file_name, model='gpt-4o-mini'):\n",
    "    \n",
    "    # Configure file path\n",
    "    folder_path = os.path.join(os.curdir, folder_name)\n",
    "    if not os.path.isdir(folder_path):\n",
    "        os.mkdir(folder_path)    \n",
    "    file_path = os.path.join(folder_path, file_name)\n",
    "\n",
    "\n",
    "    if not os.path.isfile(file_path):              \n",
    "        total_answers = []  \n",
    "        for text in dataset['text']:\n",
    "\n",
    "            #Set up the prompt messages\n",
    "            prompt_messages = prompt_initialize()        \n",
    "            new_user_prompt = {'role':'user', 'content':f\"Analyze the given Thai comments: {text}\"}\n",
    "            prompt_messages.append(new_user_prompt)\n",
    "            # print(prompt_messages)\n",
    "\n",
    "            # call the API\n",
    "            answer = chat_api_call(prompt_messages, model)\n",
    "            total_answers.append({text:answer})\n",
    "\n",
    "        pd.DataFrame([(list(ans.keys())[0], list(ans.values())[0]) for ans in total_answers],\n",
    "                         columns=['text', f'{model}_response']).to_csv(file_path)\n",
    "    else:\n",
    "        print(\"The file's name is already exist\")"
   ]
  },
  {
   "cell_type": "code",
   "execution_count": 12,
   "metadata": {},
   "outputs": [
    {
     "name": "stdout",
     "output_type": "stream",
     "text": [
      "The file's name is already exist\n"
     ]
    }
   ],
   "source": [
    "sentiment_analysis(df[:20], folder_name='dataset', file_name=f\"testing_20comments.csv\", model='gpt-4o-mini')"
   ]
  },
  {
   "cell_type": "markdown",
   "metadata": {},
   "source": [
    "## Explore the sentiment analysis from gpt model"
   ]
  },
  {
   "cell_type": "code",
   "execution_count": 13,
   "metadata": {},
   "outputs": [
    {
     "data": {
      "text/html": [
       "<div>\n",
       "<style scoped>\n",
       "    .dataframe tbody tr th:only-of-type {\n",
       "        vertical-align: middle;\n",
       "    }\n",
       "\n",
       "    .dataframe tbody tr th {\n",
       "        vertical-align: top;\n",
       "    }\n",
       "\n",
       "    .dataframe thead th {\n",
       "        text-align: right;\n",
       "    }\n",
       "</style>\n",
       "<table border=\"1\" class=\"dataframe\">\n",
       "  <thead>\n",
       "    <tr style=\"text-align: right;\">\n",
       "      <th></th>\n",
       "      <th>text</th>\n",
       "      <th>gpt-4o-mini_response</th>\n",
       "    </tr>\n",
       "  </thead>\n",
       "  <tbody>\n",
       "    <tr>\n",
       "      <th>0</th>\n",
       "      <td>เที่ยงแล้วน๊าาาาากาแฟซักแก้ว เค้กซักก้อน ก๋วยเ...</td>\n",
       "      <td>positive</td>\n",
       "    </tr>\n",
       "    <tr>\n",
       "      <th>1</th>\n",
       "      <td>บ่ายแล้ว ทานข้าวกลางวันกันคะ</td>\n",
       "      <td>neutral</td>\n",
       "    </tr>\n",
       "    <tr>\n",
       "      <th>2</th>\n",
       "      <td>ORIGINAL MOCHI NUTELLA - ไดฟูกุนูเทลล่า ไส้นูเ...</td>\n",
       "      <td>neutral</td>\n",
       "    </tr>\n",
       "    <tr>\n",
       "      <th>3</th>\n",
       "      <td>ถูกหวยในเป๋าตัง 80 ปี เกษตรศาสตร์ คิคิ</td>\n",
       "      <td>positive</td>\n",
       "    </tr>\n",
       "    <tr>\n",
       "      <th>4</th>\n",
       "      <td>แอนนาเสือ ที่ เกษตรแฟร์ค่า น่ารักมาก ❤️😝😅 กดติ...</td>\n",
       "      <td>positive</td>\n",
       "    </tr>\n",
       "  </tbody>\n",
       "</table>\n",
       "</div>"
      ],
      "text/plain": [
       "                                                text gpt-4o-mini_response\n",
       "0  เที่ยงแล้วน๊าาาาากาแฟซักแก้ว เค้กซักก้อน ก๋วยเ...             positive\n",
       "1                       บ่ายแล้ว ทานข้าวกลางวันกันคะ              neutral\n",
       "2  ORIGINAL MOCHI NUTELLA - ไดฟูกุนูเทลล่า ไส้นูเ...              neutral\n",
       "3             ถูกหวยในเป๋าตัง 80 ปี เกษตรศาสตร์ คิคิ             positive\n",
       "4  แอนนาเสือ ที่ เกษตรแฟร์ค่า น่ารักมาก ❤️😝😅 กดติ...             positive"
      ]
     },
     "execution_count": 13,
     "metadata": {},
     "output_type": "execute_result"
    }
   ],
   "source": [
    "df_w_gpt_answer = pd.read_csv('dataset/data_with_gpt_res.csv')\n",
    "df_w_gpt_answer = df_w_gpt_answer[['text', 'gpt-4o-mini_response']]\n",
    "df_w_gpt_answer.head()"
   ]
  },
  {
   "cell_type": "code",
   "execution_count": 14,
   "metadata": {},
   "outputs": [
    {
     "data": {
      "text/html": [
       "<div>\n",
       "<style scoped>\n",
       "    .dataframe tbody tr th:only-of-type {\n",
       "        vertical-align: middle;\n",
       "    }\n",
       "\n",
       "    .dataframe tbody tr th {\n",
       "        vertical-align: top;\n",
       "    }\n",
       "\n",
       "    .dataframe thead th {\n",
       "        text-align: right;\n",
       "    }\n",
       "</style>\n",
       "<table border=\"1\" class=\"dataframe\">\n",
       "  <thead>\n",
       "    <tr style=\"text-align: right;\">\n",
       "      <th></th>\n",
       "      <th>text</th>\n",
       "    </tr>\n",
       "    <tr>\n",
       "      <th>gpt-4o-mini_response</th>\n",
       "      <th></th>\n",
       "    </tr>\n",
       "  </thead>\n",
       "  <tbody>\n",
       "    <tr>\n",
       "      <th>negative</th>\n",
       "      <td>136</td>\n",
       "    </tr>\n",
       "    <tr>\n",
       "      <th>neutral</th>\n",
       "      <td>338</td>\n",
       "    </tr>\n",
       "    <tr>\n",
       "      <th>positive</th>\n",
       "      <td>258</td>\n",
       "    </tr>\n",
       "  </tbody>\n",
       "</table>\n",
       "</div>"
      ],
      "text/plain": [
       "                      text\n",
       "gpt-4o-mini_response      \n",
       "negative               136\n",
       "neutral                338\n",
       "positive               258"
      ]
     },
     "execution_count": 14,
     "metadata": {},
     "output_type": "execute_result"
    }
   ],
   "source": [
    "df_w_gpt_answer.groupby('gpt-4o-mini_response').count()"
   ]
  },
  {
   "cell_type": "code",
   "execution_count": 15,
   "metadata": {},
   "outputs": [
    {
     "data": {
      "image/png": "[encoded data removed]",
      "text/plain": [
       "<Figure size 1000x500 with 1 Axes>"
      ]
     },
     "metadata": {},
     "output_type": "display_data"
    }
   ],
   "source": [
    "import matplotlib.pyplot as plt\n",
    "\n",
    "fig, ax = plt.subplots(figsize=(10,5))\n",
    "x = df_w_gpt_answer.groupby('gpt-4o-mini_response').count().index.to_list()\n",
    "y = df_w_gpt_answer.groupby('gpt-4o-mini_response').count().text.to_list()\n",
    "bar_colors = ['tab:red', 'tab:blue', 'tab:green']\n",
    "rects = ax.bar(x, y, width=0.5, color=bar_colors)\n",
    "ax.bar_label(rects, padding=2)\n",
    "ax.set_ylabel('Number of comments from Facebook and Twitter')\n",
    "ax.set_title(\"Sentiment analysis on 2023 KU Fair (Bang Khen) comments using gpt-4o-mini\")\n",
    "ax.set_ylim(0, max(y)*1.2)\n",
    "plt.show()"
   ]
  },
  {
   "cell_type": "markdown",
   "metadata": {},
   "source": [
    "### Compare the result with manual_label"
   ]
  },
  {
   "cell_type": "code",
   "execution_count": 16,
   "metadata": {},
   "outputs": [],
   "source": [
    "def sentiment_to_number(sentiment):\n",
    "    '''\n",
    "    convert sentiment to integer\n",
    "    '''\n",
    "    mapping_dict = {\"negative\":0, \"neutral\":1, \"positive\":2}\n",
    "    return mapping_dict[sentiment.lower()]\n",
    "\n",
    "prediction = df_w_gpt_answer['gpt-4o-mini_response'].apply(sentiment_to_number)\n",
    "label = df['manual_Label'].apply(sentiment_to_number)"
   ]
  },
  {
   "cell_type": "code",
   "execution_count": 17,
   "metadata": {},
   "outputs": [
    {
     "name": "stdout",
     "output_type": "stream",
     "text": [
      "              precision    recall  f1-score   support\n",
      "\n",
      "    negative       0.84      0.74      0.78       155\n",
      "     neutral       0.78      0.73      0.75       360\n",
      "    positive       0.69      0.82      0.75       217\n",
      "\n",
      "    accuracy                           0.76       732\n",
      "   macro avg       0.77      0.76      0.76       732\n",
      "weighted avg       0.76      0.76      0.76       732\n",
      "\n"
     ]
    }
   ],
   "source": [
    "import seaborn as sns\n",
    "from sklearn.metrics import classification_report, confusion_matrix\n",
    "\n",
    "classes = [\"negative\", \"neutral\", \"positive\"]\n",
    "print(classification_report(label, prediction, target_names=classes))"
   ]
  },
  {
   "cell_type": "code",
   "execution_count": 18,
   "metadata": {},
   "outputs": [
    {
     "data": {
      "image/png": "[encoded data removed]",
      "text/plain": [
       "<Figure size 600x600 with 2 Axes>"
      ]
     },
     "metadata": {},
     "output_type": "display_data"
    }
   ],
   "source": [
    "cm = confusion_matrix(label, prediction)\n",
    "cm_sum = np.sum(cm, axis=0, keepdims=True)\n",
    "cm_perc = np.round(cm / cm_sum.astype(np.float32), decimals=2)\n",
    "cm_df = pd.DataFrame(cm_perc, index=classes, columns=classes )\n",
    "\n",
    "fig, ax = plt.subplots(figsize=(6, 6))\n",
    "ax = sns.heatmap(cm_df, linewidths=0.5, cmap=plt.cm.Blues, annot=True)\n",
    "ax.set_xlabel(\"Prediction\")\n",
    "ax.set_ylabel(\"True label\")\n",
    "ax.set_title(\"Confusion Matrix - Precision\")\n",
    "plt.show()"
   ]
  }
 ],
 "metadata": {
  "kernelspec": {
   "display_name": "openai_api",
   "language": "python",
   "name": "python3"
  },
  "language_info": {
   "codemirror_mode": {
    "name": "ipython",
    "version": 3
   },
   "file_extension": ".py",
   "mimetype": "text/x-python",
   "name": "python",
   "nbconvert_exporter": "python",
   "pygments_lexer": "ipython3",
   "version": "3.11.11"
  }
 },
 "nbformat": 4,
 "nbformat_minor": 2
}
